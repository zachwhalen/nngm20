{
  "nbformat": 4,
  "nbformat_minor": 0,
  "metadata": {
    "colab": {
      "name": "GeneratingComics.ipynb",
      "provenance": [],
      "authorship_tag": "ABX9TyNw4aTPF1W/cg7SDxRoESfZ",
      "include_colab_link": true
    },
    "kernelspec": {
      "name": "python3",
      "display_name": "Python 3"
    }
  },
  "cells": [
    {
      "cell_type": "markdown",
      "metadata": {
        "id": "view-in-github",
        "colab_type": "text"
      },
      "source": [
        "<a href=\"https://colab.research.google.com/github/zachwhalen/nngm20/blob/main/GeneratingComics.ipynb\" target=\"_parent\"><img src=\"https://colab.research.google.com/assets/colab-badge.svg\" alt=\"Open In Colab\"/></a>"
      ]
    },
    {
      "cell_type": "markdown",
      "metadata": {
        "id": "NfohMKFJtf2y"
      },
      "source": [
        "# Generating Comics\n",
        "\n",
        "This notebook contains code I used to generate my NaNoGenMo 2020 book, [_VAUD oc HORRRR_](https://github.com/nanogenmo/2020/issues/55). This is pretty messy. It worked for me, but I don't think it's necessarily easy for anyone else to do.\n",
        "\n",
        "The big things that aren't here:\n",
        "1. I used [multicrop2](http://www.fmwconcepts.com/imagemagick/multicrop2/index.php) to extract panels from comics. This required a lot of manual cleanup.\n",
        "2. I used [Derrick Schultz's StyleGAN2 scripts](https://github.com/dvschultz) for create the `.pkl` files.\n",
        "\n",
        "----"
      ]
    },
    {
      "cell_type": "markdown",
      "metadata": {
        "id": "6JXH2tFFom3j"
      },
      "source": [
        "Start with some basic imports and set up."
      ]
    },
    {
      "cell_type": "code",
      "metadata": {
        "id": "jYFbkYmMol4q"
      },
      "source": [
        "# imports\n",
        "from PIL import Image\n",
        "from PIL import ImageFont\n",
        "from PIL import ImageDraw\n",
        "import random\n",
        "from glob import glob\n",
        "import os.path\n",
        "import cv2\n",
        "import string\n",
        "!pip install opensimplex\n",
        "%tensorflow_version 1.x\n",
        "%cd /content/drive/MyDrive/nngm20/\n",
        "%mkdir 'work/panels'\n",
        "%mkdir 'work/rows'\n",
        "%mkdir 'work/rows/2'\n",
        "%mkdir 'work/rows/3'"
      ],
      "execution_count": null,
      "outputs": []
    },
    {
      "cell_type": "markdown",
      "metadata": {
        "id": "swHcq0h5ouX0"
      },
      "source": [
        "Assign the `.pkl` file to use and set some parameters that might need to be adjusted and/or reused later."
      ]
    },
    {
      "cell_type": "code",
      "metadata": {
        "id": "TYMzboTpo3i5"
      },
      "source": [
        "gen = '/content/drive/MyDrive/nngm20/stylegan2-colab/stylegan2/run_generator.py'\n",
        "pkl = '/content/drive/MyDrive/nngm20/stylegan2-colab/stylegan2/results/00020-stylegan2-ec-1gpu-config-f/network-snapshot-011946.pkl'\n",
        "work_dir = './work'\n",
        "seed_start = random.randint(0,50000000)\n",
        "seed_end = seed_start + 8000"
      ],
      "execution_count": null,
      "outputs": []
    },
    {
      "cell_type": "markdown",
      "metadata": {
        "id": "RiNl1zZJo8Cx"
      },
      "source": [
        "Use those settings to run the image generating script. This assumes you already have a well-trained `.pkl` file.\n"
      ]
    },
    {
      "cell_type": "code",
      "metadata": {
        "id": "IfOjYi9_pDVW"
      },
      "source": [
        "!python {gen} generate-images --network={pkl} --seeds={seed_start}-{seed_end} --truncation-psi=0.5 --result-dir={work_dir}"
      ],
      "execution_count": null,
      "outputs": []
    },
    {
      "cell_type": "markdown",
      "metadata": {
        "id": "1HB5pgUMpKsq"
      },
      "source": [
        "Crop all of those generated images to remove the whitespace on the sides. Since the generated images are 1024x1024, the extra space needs to be removed so they can fit together.\n"
      ]
    },
    {
      "cell_type": "code",
      "metadata": {
        "id": "nthI6pEFpnKt"
      },
      "source": [
        "\n",
        "generated_images = glob(\"/content/drive/MyDrive/nngm20/work/00003-generate-images/*.png\")\n",
        "\n",
        "# crop all of the panels\n",
        "for img in generated_images:\n",
        "\n",
        "  fn = os.path.basename(img)\n",
        "  # from here https://stackoverflow.com/a/59636960\n",
        "\n",
        "  # Load image, grayscale, Gaussian blur, Otsu's threshold\n",
        "  image = cv2.imread(img)\n",
        "  original = image.copy()\n",
        "  gray = cv2.cvtColor(image, cv2.COLOR_BGR2GRAY)\n",
        "  blur = cv2.GaussianBlur(gray, (25,25), 0)\n",
        "  thresh = cv2.threshold(blur, 0, 255, cv2.THRESH_BINARY_INV + cv2.THRESH_OTSU)[1]\n",
        "\n",
        "\n",
        "  # Perform morph operations, first open to remove noise, then close to combine\n",
        "  noise_kernel = cv2.getStructuringElement(cv2.MORPH_RECT, (3,3))\n",
        "  opening = cv2.morphologyEx(thresh, cv2.MORPH_OPEN, noise_kernel, iterations=2)\n",
        "  close_kernel = cv2.getStructuringElement(cv2.MORPH_RECT, (7,7))\n",
        "  close = cv2.morphologyEx(opening, cv2.MORPH_CLOSE, close_kernel, iterations=3)\n",
        "\n",
        "  # Find enclosing boundingbox and crop ROI\n",
        "  coords = cv2.findNonZero(close)\n",
        "  x,y,w,h = cv2.boundingRect(coords)\n",
        "  cv2.rectangle(image, (x, y), (x + w, y + h), (36,255,12), 2)\n",
        "  crop = original[y:y+h, x:x+w]\n",
        "\n",
        "  ratio = crop.shape[1] / crop.shape[0]\n",
        "  new_height = 1000\n",
        "  new_width = int(ratio * 1000)\n",
        "\n",
        "  # resize it to height = 1000 for standardized rows\n",
        "  resized = cv2.resize(crop, (new_width,new_height), interpolation = cv2.INTER_AREA)\n",
        "\n",
        "  done = cv2.imwrite('/content/drive/MyDrive/nngm20/work/panels/cropped-'+fn,resized)"
      ],
      "execution_count": null,
      "outputs": []
    },
    {
      "cell_type": "markdown",
      "metadata": {
        "id": "JoGGMhVrpEf8"
      },
      "source": [
        "Ingest all of the generated panels into a dictionary, `pd`, that contains their file name and width. This takes a long time. It could probably be done faster as a generator instead of a list, but this is fine I guess. With 8000 images, it took about an hour and a half."
      ]
    },
    {
      "cell_type": "code",
      "metadata": {
        "id": "P9DfnII9qNAk"
      },
      "source": [
        "# run this to reset the pd database as needed\n",
        "for p in pd.keys():\n",
        "  pd[p]['used'] = 0"
      ],
      "execution_count": null,
      "outputs": []
    },
    {
      "cell_type": "markdown",
      "metadata": {
        "id": "9ZJ1RlfzqlUI"
      },
      "source": [
        "Arrange the panels into complete rows of appropriate width. `tw` sets that width to 2000, which seems to work. It starts with the largest-width panels and tries to fit them together until it runs out of possibilities."
      ]
    },
    {
      "cell_type": "code",
      "metadata": {
        "id": "YvISba56qYhj"
      },
      "source": [
        "# target width\n",
        "tw = 2000\n",
        "fit = 100 # how close do the rows need to be to target width?\n",
        "pad = 10 # how far apart should the panels be?\n",
        "row_list = []\n",
        "buckets = []\n",
        "#keys = pd.keys()\n",
        "def widthSort (x):\n",
        "  return pd[x]['w']\n",
        "\n",
        "sorted_keys = sorted(pd.keys(), key = widthSort, reverse = True)\n",
        "\n",
        "for p in sorted_keys:\n",
        "  if pd[p]['used'] is 0:\n",
        "    for a in sorted_keys:\n",
        "      if pd[a]['used'] is 0 and a is not p:\n",
        "        nw = pd[p]['w'] + pd[a]['w']\n",
        "        if (abs(nw - tw) < fit):\n",
        "          row_list.append((nw,[p,a]))\n",
        "          pd[p]['used'] = 1\n",
        "          pd[a]['used'] = 1\n",
        "          print(row_list[-1])\n",
        "          break\n",
        "\n",
        "print(len(row_list))"
      ],
      "execution_count": null,
      "outputs": []
    },
    {
      "cell_type": "markdown",
      "metadata": {
        "id": "-1ME066arDYY"
      },
      "source": [
        "Group some of the remaining panels into three-panel rows. This took a few tries to find a method that would finish in a reasonable time. Basically it creates an arbitrary number of buckets, filling them in with random panels. Then it iterates through all of the unclaimed panels, sticking them in the first available bucket where the total width doesn't exceed 2000 +/- the `fit` variable."
      ]
    },
    {
      "cell_type": "code",
      "metadata": {
        "id": "38vIrn-Drp5U"
      },
      "source": [
        "buckets = []\n",
        "bucket_count = int(len(pd.keys())  - len(row_list) / 3)\n",
        "ad = {x:pd[x] for x in list(pd.keys()) if pd[x]['used'] == 0}\n",
        "a_sorted_keys = sorted(ad.keys(), key = widthSort, reverse = False)\n",
        "\n",
        "for p in a_sorted_keys[:bucket_count]:\n",
        "  buckets.append((pd[p]['w'],[p]))\n",
        "  pd[p]['used'] == 1\n",
        "\n",
        "bd = {x:pd[x] for x in list(pd.keys()) if pd[x]['used'] == 0}\n",
        "\n",
        "b_sorted_keys = sorted(bd.keys(), key = widthSort, reverse = False)\n",
        "for p in b_sorted_keys[:bucket_count]:\n",
        "  for i in range(len(buckets)):\n",
        "    bucket = buckets[i]\n",
        "    if (bucket[0] + pd[p]['w'] < tw):\n",
        "      bucket[1].append(p)\n",
        "      buckets[i] = (bucket[0] + pd[p]['w'],bucket[1])\n",
        "      pd[p]['used'] = 1\n",
        "      break\n",
        "\n",
        "cd = {x:pd[x] for x in list(pd.keys()) if pd[x]['used'] == 0}\n",
        "c_sorted_keys = sorted(cd.keys(),key = widthSort, reverse = False)\n",
        "\n",
        "for p in c_sorted_keys:\n",
        "  for i in range(len(buckets)):\n",
        "    bucket = buckets[i]\n",
        "    if (bucket[0] + pd[p]['w'] < tw + fit):\n",
        "      bucket[1].append(p)\n",
        "      buckets[i] = (bucket[0] + pd[p]['w'],bucket[1])\n",
        "      pd[p]['used'] = 1\n",
        "      break"
      ],
      "execution_count": null,
      "outputs": []
    },
    {
      "cell_type": "markdown",
      "metadata": {
        "id": "JQLig5e0q9S1"
      },
      "source": [
        "Choose the best three-panel rows by adjusting the threshold of the fit. I'm looking for a good balance between two- and three-panel rows."
      ]
    },
    {
      "cell_type": "code",
      "metadata": {
        "id": "-UGYDJ4fsKsT"
      },
      "source": [
        "keepers = [x for x in buckets if x[0] > 1980]\n"
      ],
      "execution_count": null,
      "outputs": []
    },
    {
      "cell_type": "markdown",
      "metadata": {
        "id": "dKrGV_fdsWAO"
      },
      "source": [
        "Randomly arrange those panel rows into groups of three to compose pages."
      ]
    },
    {
      "cell_type": "code",
      "metadata": {
        "id": "uhMKxlNOsgO5"
      },
      "source": [
        "import random\n",
        "chunking_list = row_list\n",
        "pages = []\n",
        "\n",
        "while (len(chunking_list) > 0):\n",
        "  page = []\n",
        "  for r in range(3):\n",
        "    page.append(\n",
        "        row_list.pop(random.randint(0,len(chunking_list) - 1))\n",
        "    )\n",
        "  pages.append(page)"
      ],
      "execution_count": null,
      "outputs": []
    },
    {
      "cell_type": "markdown",
      "metadata": {
        "id": "1AZRWjb1sr6s"
      },
      "source": [
        "Work through those page-groups, adjusting the row sizes so they're all the same. Add a page number, and stick that onto a static recto or verso page as needed.\n"
      ]
    },
    {
      "cell_type": "code",
      "metadata": {
        "id": "KScw4hN1s7m-"
      },
      "source": [
        "pad = 10\n",
        "pn = 1\n",
        "\n",
        "for page in pages:\n",
        "  page_height = 0\n",
        "  page_width = 1200\n",
        "  row_images = []\n",
        "\n",
        "  for row in page:\n",
        "    #print(row)\n",
        "    \n",
        "    row_width = row[0] + (pad * len(row[1]))\n",
        "\n",
        "    row_image = Image.new(\"RGBA\",(row_width,1000),color=(0,0,0,0))\n",
        "\n",
        "    h_offset = 0\n",
        "    for p in row[1]:\n",
        "      pim = Image.open(pd[p]['path'])\n",
        "      progress = row_image.paste(pim,(h_offset,0))\n",
        "      h_offset += pd[p]['w'] + pad\n",
        "\n",
        "    row_image.thumbnail((1200,1200),resample = Image.BICUBIC)\n",
        "    page_height += int(row_image.size[1] + (pad / 2))\n",
        "    row_images.append(row_image)\n",
        "\n",
        "  page_image = Image.new(\"RGBA\",(1200,page_height),color=(0,0,0,0))\n",
        "\n",
        "  offset = 0\n",
        "  for r in row_images:\n",
        "    #print(offset)\n",
        "    progress = page_image.paste(r,(0,offset))\n",
        "    offset += int(r.size[1] + (pad / 2))\n",
        "\n",
        "\n",
        "  # add the page number\n",
        "  template = '/content/drive/MyDrive/nngm20/work/page-number-template.png'\n",
        "  font = ImageFont.truetype('/usr/share/fonts/truetype/liberation/LiberationSans-Bold.ttf', 11)\n",
        "\n",
        "  base = Image.new(\"RGBA\",(25,25),(0,0,0,0))\n",
        "  draw = ImageDraw.Draw(base)\n",
        "  npad = \" \" if (pn < 10) else \"\"\n",
        "  draw.text((8,7), npad + str(pn),(50,50,50), font=font)\n",
        "  temp = Image.open(template)\n",
        "  temp1 = temp.convert(\"RGBA\")\n",
        "  base1 = base.resize((60,60),resample = Image.BICUBIC)\n",
        "  done = Image.alpha_composite(temp1,base1)\n",
        "  shim = Image.new(\"RGBA\",(1200,page_height),color=(0,0,0,0))\n",
        "  progress = shim.paste(done,(1200 - 63, page_height - 63))\n",
        "\n",
        "  numbered_page = Image.alpha_composite(page_image,shim)\n",
        "\n",
        "  recto = '/content/drive/MyDrive/nngm20/work/recto.png'\n",
        "  verso = '/content/drive/MyDrive/nngm20/work/verso.png'\n",
        "\n",
        "  shim = Image.new(\"RGBA\",(1250,1920),color=(0,0,0,0))\n",
        "  progress = shim.paste(numbered_page,(25,50))\n",
        "\n",
        "  if (pn % 2 is 1):\n",
        "    # odd, so add to recto\n",
        "    base = Image.open(recto)\n",
        "  else:\n",
        "    # even, so add to verso\n",
        "    base = Image.open(verso)\n",
        "\n",
        "  merged_page = Image.alpha_composite(base,shim)\n",
        "\n",
        "  file_name = str(pn)\n",
        "  while (len(file_name) < 4):\n",
        "    file_name = '0' + file_name\n",
        "\n",
        "  progress = merged_page.save('/content/assemble/' + file_name + '.png')\n",
        "  print(file_name + '.png')\n",
        "  \n",
        "  pn += 1\n"
      ],
      "execution_count": null,
      "outputs": []
    },
    {
      "cell_type": "markdown",
      "metadata": {
        "id": "BfNoCeGDtOfJ"
      },
      "source": [
        "Generate a cover image."
      ]
    },
    {
      "cell_type": "code",
      "metadata": {
        "id": "NbqeY-VctNWB"
      },
      "source": [
        "%mkdir cover\n",
        "# generate a cover\n",
        "!rm -rf '/content/cover/'\n",
        "\n",
        "\n",
        "pkl = '/content/drive/MyDrive/nngm20/covers/stylegan2-colab/stylegan2/results/00002-stylegan2-covers-1gpu-config-f/network-snapshot-010163.pkl'\n",
        "gen = '/content/drive/MyDrive/nngm20/stylegan2-colab/stylegan2/run_generator.py'\n",
        "seed = random.randint(0,5000)\n",
        "\n",
        "!python {gen} generate-images --network={pkl} --seeds={seed} --truncation-psi=0.3 --result-dir='/content/cover/'\n",
        "\n",
        "[cover] = glob('/content/cover/00000-generate-images/*.png') \n",
        "\n",
        "\n",
        "im = Image.open(cover)\n",
        "cropped = im.crop((170,10,1024-170,1024-10))\n",
        "\n",
        "scaled = cropped.resize((1250,1835))\n",
        "\n",
        "progress = scaled.save('/content/assemble/cover.png')\n"
      ],
      "execution_count": null,
      "outputs": []
    },
    {
      "cell_type": "markdown",
      "metadata": {
        "id": "H2Ym4bhdtSeM"
      },
      "source": [
        "Finally, bind it all together into a PDF!"
      ]
    },
    {
      "cell_type": "code",
      "metadata": {
        "id": "eCmz9XcEtaZF"
      },
      "source": [
        "\n",
        "pagelist = glob('/content/assemble/0*.png')\n",
        "pagelist = sorted(pagelist)\n",
        "pagelist = ['/content/drive/MyDrive/nngm20/work/verso.png'] + pagelist\n",
        "page_images = []\n",
        "for page in pagelist:\n",
        "  im = Image.open(page).convert('RGB')\n",
        "  page_images.append(im)\n",
        "\n",
        "pdf = Image.open('/content/assemble/cover.png')\n",
        "\n",
        "pdf.save('/content/book.pdf', \"PDF\" ,resolution=100.0, save_all=True, append_images=page_images)"
      ],
      "execution_count": null,
      "outputs": []
    }
  ]
}